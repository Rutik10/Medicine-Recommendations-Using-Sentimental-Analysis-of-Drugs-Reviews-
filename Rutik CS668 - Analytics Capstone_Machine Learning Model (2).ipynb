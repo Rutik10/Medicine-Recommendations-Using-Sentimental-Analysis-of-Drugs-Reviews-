{
 "cells": [
  {
   "cell_type": "markdown",
   "id": "40c04bd1",
   "metadata": {},
   "source": [
    "Name - Rutik Kothwala\n",
    "UID - U01868702\n",
    "Subject - CS668, Analytics Capstone"
   ]
  },
  {
   "cell_type": "code",
   "execution_count": 1,
   "id": "6b17dba3",
   "metadata": {
    "colab": {
     "base_uri": "https://localhost:8080/",
     "height": 383
    },
    "id": "6b17dba3",
    "outputId": "c80b2510-c647-4ba7-d971-8788ca380a4a"
   },
   "outputs": [],
   "source": [
    "import pandas as pd\n",
    "import numpy as np\n",
    "import matplotlib.pyplot as plt\n",
    "import seaborn as sns\n",
    "from wordcloud import WordCloud, STOPWORDS, ImageColorGenerator\n",
    "from sklearn.model_selection import train_test_split\n",
    "from sklearn.feature_extraction.text import TfidfVectorizer\n",
    "from sklearn.ensemble import RandomForestClassifier\n",
    "from keras.preprocessing.text import Tokenizer\n",
    "from tensorflow.keras.preprocessing.sequence import pad_sequences\n",
    "from keras.models import Sequential\n",
    "from keras.layers import Dense, Embedding, LSTM, SpatialDropout1D\n",
    "from keras.utils.np_utils import to_categorical\n",
    "import nltk\n",
    "from nltk.corpus import stopwords\n",
    "from nltk.tokenize import word_tokenize\n",
    "from nltk.stem import PorterStemmer\n",
    "from nltk.util import ngrams\n",
    "import string\n",
    "from sklearn.naive_bayes import GaussianNB\n",
    "from xgboost import XGBClassifier\n",
    "from imblearn.over_sampling import SMOTE\n",
    "from sklearn.model_selection import train_test_split\n",
    "from sklearn.feature_extraction.text import TfidfVectorizer\n",
    "from imblearn.over_sampling import SMOTE\n",
    "from collections import Counter\n",
    "from sklearn.naive_bayes import MultinomialNB\n",
    "from sklearn.metrics import classification_report\n",
    "from sklearn.feature_extraction.text import CountVectorizer\n",
    "import gensim\n",
    "from gensim.models import Word2Vec\n",
    "from gensim.models import Word2Vec, KeyedVectors\n",
    "import nltk\n",
    "import time\n",
    "import re\n",
    "from gensim.utils import simple_preprocess"
   ]
  },
  {
   "cell_type": "code",
   "execution_count": 2,
   "id": "25fabf4c",
   "metadata": {
    "id": "25fabf4c"
   },
   "outputs": [],
   "source": [
    "drugs_reviews= pd.read_csv(\"C:/Users/rutik/Downloads/drugs_reviews.csv\") # loading the preprocessed reviews saved dataset"
   ]
  },
  {
   "cell_type": "code",
   "execution_count": 4,
   "id": "257c3ef3",
   "metadata": {},
   "outputs": [],
   "source": [
    "# Remove rows with NaN values in the 'preprocessed_review' column\n",
    "drugs_reviews.dropna(subset=['preprocessed_review'], inplace=True)\n",
    "\n",
    "# Reset the index if needed\n",
    "drugs_reviews.reset_index(drop=True, inplace=True)"
   ]
  },
  {
   "cell_type": "code",
   "execution_count": 5,
   "id": "539cc3d8",
   "metadata": {
    "scrolled": true
   },
   "outputs": [
    {
     "name": "stdout",
     "output_type": "stream",
     "text": [
      "<class 'pandas.core.frame.DataFrame'>\n",
      "RangeIndex: 211455 entries, 0 to 211454\n",
      "Data columns (total 8 columns):\n",
      " #   Column               Non-Null Count   Dtype  \n",
      "---  ------               --------------   -----  \n",
      " 0   Unnamed: 0           211455 non-null  int64  \n",
      " 1   drugName             211455 non-null  object \n",
      " 2   condition            211455 non-null  object \n",
      " 3   review               211455 non-null  object \n",
      " 4   rating               211455 non-null  float64\n",
      " 5   date                 211455 non-null  object \n",
      " 6   usefulCount          211455 non-null  int64  \n",
      " 7   preprocessed_review  211455 non-null  object \n",
      "dtypes: float64(1), int64(2), object(5)\n",
      "memory usage: 12.9+ MB\n"
     ]
    }
   ],
   "source": [
    "drugs_reviews.info()"
   ]
  },
  {
   "cell_type": "code",
   "execution_count": 6,
   "id": "1b65a4c2",
   "metadata": {
    "id": "1b65a4c2"
   },
   "outputs": [],
   "source": [
    "# Convert rating column to positive (1) or negative (0)\n",
    "drugs_reviews['sentiment'] = drugs_reviews['rating'].apply(lambda x: 1 if x >= 6 else 0)"
   ]
  },
  {
   "cell_type": "code",
   "execution_count": 7,
   "id": "91d84067",
   "metadata": {
    "id": "91d84067"
   },
   "outputs": [],
   "source": [
    "X = drugs_reviews.drop(['review','rating','date','sentiment'],axis=1)\n",
    "y = drugs_reviews['sentiment'].values"
   ]
  },
  {
   "cell_type": "code",
   "execution_count": 8,
   "id": "0c565b39",
   "metadata": {
    "id": "0c565b39"
   },
   "outputs": [],
   "source": [
    "X_train, X_test, y_train, y_test = train_test_split(X, y, test_size=0.2)"
   ]
  },
  {
   "cell_type": "markdown",
   "id": "0e475ca1",
   "metadata": {
    "id": "0e475ca1"
   },
   "source": [
    "# Modelling"
   ]
  },
  {
   "cell_type": "markdown",
   "id": "8122c11e",
   "metadata": {
    "id": "8122c11e"
   },
   "source": [
    "# TfIDF"
   ]
  },
  {
   "cell_type": "code",
   "execution_count": 9,
   "id": "cc8db43d",
   "metadata": {
    "id": "cc8db43d"
   },
   "outputs": [],
   "source": [
    "tfidf_vectorizer = TfidfVectorizer(ngram_range=(1, 4), max_features=5000)\n",
    "\n",
    "\n",
    "X_tfidf_train = tfidf_vectorizer.fit_transform(X_train['preprocessed_review'])\n",
    "\n",
    "\n",
    "X_tfidf_test = tfidf_vectorizer.transform(X_test['preprocessed_review'])"
   ]
  },
  {
   "cell_type": "code",
   "execution_count": null,
   "id": "eb4143d6",
   "metadata": {
    "id": "eb4143d6",
    "outputId": "6a90636e-f3be-486f-f127-1f39ab57debe"
   },
   "outputs": [
    {
     "name": "stdout",
     "output_type": "stream",
     "text": [
      "Before Counter({1: 102434, 0: 43914})\n",
      "After Counter({1: 102434, 0: 102434})\n"
     ]
    }
   ],
   "source": [
    "counter = Counter(y_train)\n",
    "print('Before', counter)\n",
    "\n",
    "# oversampling the train dataset using SMOTE\n",
    "smt = SMOTE()\n",
    "\n",
    "\n",
    "X_train_sm, y_train_sm = smt.fit_resample(X_tfidf_train, y_train)\n",
    "\n",
    "counter = Counter(y_train_sm)\n",
    "print('After',counter)"
   ]
  },
  {
   "cell_type": "markdown",
   "id": "9e6d1392",
   "metadata": {},
   "source": [
    "Random Forest"
   ]
  },
  {
   "cell_type": "code",
   "execution_count": null,
   "id": "149a509d",
   "metadata": {
    "id": "149a509d",
    "outputId": "21fe4ddc-7bbf-4e55-87e7-a9f1e16f679b"
   },
   "outputs": [
    {
     "data": {
      "text/html": [
       "<style>#sk-container-id-1 {color: black;background-color: white;}#sk-container-id-1 pre{padding: 0;}#sk-container-id-1 div.sk-toggleable {background-color: white;}#sk-container-id-1 label.sk-toggleable__label {cursor: pointer;display: block;width: 100%;margin-bottom: 0;padding: 0.3em;box-sizing: border-box;text-align: center;}#sk-container-id-1 label.sk-toggleable__label-arrow:before {content: \"▸\";float: left;margin-right: 0.25em;color: #696969;}#sk-container-id-1 label.sk-toggleable__label-arrow:hover:before {color: black;}#sk-container-id-1 div.sk-estimator:hover label.sk-toggleable__label-arrow:before {color: black;}#sk-container-id-1 div.sk-toggleable__content {max-height: 0;max-width: 0;overflow: hidden;text-align: left;background-color: #f0f8ff;}#sk-container-id-1 div.sk-toggleable__content pre {margin: 0.2em;color: black;border-radius: 0.25em;background-color: #f0f8ff;}#sk-container-id-1 input.sk-toggleable__control:checked~div.sk-toggleable__content {max-height: 200px;max-width: 100%;overflow: auto;}#sk-container-id-1 input.sk-toggleable__control:checked~label.sk-toggleable__label-arrow:before {content: \"▾\";}#sk-container-id-1 div.sk-estimator input.sk-toggleable__control:checked~label.sk-toggleable__label {background-color: #d4ebff;}#sk-container-id-1 div.sk-label input.sk-toggleable__control:checked~label.sk-toggleable__label {background-color: #d4ebff;}#sk-container-id-1 input.sk-hidden--visually {border: 0;clip: rect(1px 1px 1px 1px);clip: rect(1px, 1px, 1px, 1px);height: 1px;margin: -1px;overflow: hidden;padding: 0;position: absolute;width: 1px;}#sk-container-id-1 div.sk-estimator {font-family: monospace;background-color: #f0f8ff;border: 1px dotted black;border-radius: 0.25em;box-sizing: border-box;margin-bottom: 0.5em;}#sk-container-id-1 div.sk-estimator:hover {background-color: #d4ebff;}#sk-container-id-1 div.sk-parallel-item::after {content: \"\";width: 100%;border-bottom: 1px solid gray;flex-grow: 1;}#sk-container-id-1 div.sk-label:hover label.sk-toggleable__label {background-color: #d4ebff;}#sk-container-id-1 div.sk-serial::before {content: \"\";position: absolute;border-left: 1px solid gray;box-sizing: border-box;top: 0;bottom: 0;left: 50%;z-index: 0;}#sk-container-id-1 div.sk-serial {display: flex;flex-direction: column;align-items: center;background-color: white;padding-right: 0.2em;padding-left: 0.2em;position: relative;}#sk-container-id-1 div.sk-item {position: relative;z-index: 1;}#sk-container-id-1 div.sk-parallel {display: flex;align-items: stretch;justify-content: center;background-color: white;position: relative;}#sk-container-id-1 div.sk-item::before, #sk-container-id-1 div.sk-parallel-item::before {content: \"\";position: absolute;border-left: 1px solid gray;box-sizing: border-box;top: 0;bottom: 0;left: 50%;z-index: -1;}#sk-container-id-1 div.sk-parallel-item {display: flex;flex-direction: column;z-index: 1;position: relative;background-color: white;}#sk-container-id-1 div.sk-parallel-item:first-child::after {align-self: flex-end;width: 50%;}#sk-container-id-1 div.sk-parallel-item:last-child::after {align-self: flex-start;width: 50%;}#sk-container-id-1 div.sk-parallel-item:only-child::after {width: 0;}#sk-container-id-1 div.sk-dashed-wrapped {border: 1px dashed gray;margin: 0 0.4em 0.5em 0.4em;box-sizing: border-box;padding-bottom: 0.4em;background-color: white;}#sk-container-id-1 div.sk-label label {font-family: monospace;font-weight: bold;display: inline-block;line-height: 1.2em;}#sk-container-id-1 div.sk-label-container {text-align: center;}#sk-container-id-1 div.sk-container {/* jupyter's `normalize.less` sets `[hidden] { display: none; }` but bootstrap.min.css set `[hidden] { display: none !important; }` so we also need the `!important` here to be able to override the default hidden behavior on the sphinx rendered scikit-learn.org. See: https://github.com/scikit-learn/scikit-learn/issues/21755 */display: inline-block !important;position: relative;}#sk-container-id-1 div.sk-text-repr-fallback {display: none;}</style><div id=\"sk-container-id-1\" class=\"sk-top-container\"><div class=\"sk-text-repr-fallback\"><pre>RandomForestClassifier(random_state=42)</pre><b>In a Jupyter environment, please rerun this cell to show the HTML representation or trust the notebook. <br />On GitHub, the HTML representation is unable to render, please try loading this page with nbviewer.org.</b></div><div class=\"sk-container\" hidden><div class=\"sk-item\"><div class=\"sk-estimator sk-toggleable\"><input class=\"sk-toggleable__control sk-hidden--visually\" id=\"sk-estimator-id-1\" type=\"checkbox\" checked><label for=\"sk-estimator-id-1\" class=\"sk-toggleable__label sk-toggleable__label-arrow\">RandomForestClassifier</label><div class=\"sk-toggleable__content\"><pre>RandomForestClassifier(random_state=42)</pre></div></div></div></div></div>"
      ],
      "text/plain": [
       "RandomForestClassifier(random_state=42)"
      ]
     },
     "execution_count": 36,
     "metadata": {},
     "output_type": "execute_result"
    }
   ],
   "source": [
    "rf_model = RandomForestClassifier(n_estimators=100, random_state=42)\n",
    "rf_model.fit(X_train_sm, y_train_sm)"
   ]
  },
  {
   "cell_type": "code",
   "execution_count": null,
   "id": "1cba0c93",
   "metadata": {
    "id": "1cba0c93",
    "outputId": "6f60098e-cd0a-4ddc-8020-21355171eb02"
   },
   "outputs": [
    {
     "name": "stdout",
     "output_type": "stream",
     "text": [
      "Random Forests Accuracy: 0.911419044495463\n"
     ]
    }
   ],
   "source": [
    "rf_accuracy = rf_model.score(X_tfidf_test, y_test)\n",
    "print('Random Forests Accuracy:', rf_accuracy)"
   ]
  },
  {
   "cell_type": "code",
   "execution_count": null,
   "id": "acb2ba9a",
   "metadata": {
    "id": "acb2ba9a",
    "outputId": "8a98812f-9551-487b-f8f2-424b76a29f00",
    "scrolled": false
   },
   "outputs": [
    {
     "name": "stdout",
     "output_type": "stream",
     "text": [
      "Classification Report for Random Forest Classifier:\n",
      "              precision    recall  f1-score   support\n",
      "\n",
      "           0       0.91      0.79      0.84     11099\n",
      "           1       0.91      0.97      0.94     25489\n",
      "\n",
      "    accuracy                           0.91     36588\n",
      "   macro avg       0.91      0.88      0.89     36588\n",
      "weighted avg       0.91      0.91      0.91     36588\n",
      "\n"
     ]
    }
   ],
   "source": [
    "y_pred = rf_model.predict(X_tfidf_test)\n",
    "classification_rep = classification_report(y_test, y_pred)\n",
    "print(\"Classification Report for Random Forest Classifier:\")\n",
    "print(classification_rep)"
   ]
  },
  {
   "cell_type": "code",
   "execution_count": null,
   "id": "0babf2d2",
   "metadata": {},
   "outputs": [],
   "source": [
    "# Random Forest is the best model with TF-IDF with accuracy of 0.91"
   ]
  },
  {
   "cell_type": "code",
   "execution_count": null,
   "id": "3725b64e",
   "metadata": {
    "id": "3725b64e"
   },
   "outputs": [],
   "source": [
    "X_test['model2'] = y_pred"
   ]
  },
  {
   "cell_type": "code",
   "execution_count": null,
   "id": "0b2f9bd2",
   "metadata": {
    "id": "0b2f9bd2"
   },
   "outputs": [],
   "source": [
    "X_test.to_csv('df_model2.csv')"
   ]
  },
  {
   "cell_type": "code",
   "execution_count": null,
   "id": "a7db37f4",
   "metadata": {
    "id": "a7db37f4"
   },
   "outputs": [],
   "source": [
    "X_test.to_csv('C:/Users/rutik/Downloads/df_model2.csv')"
   ]
  },
  {
   "cell_type": "code",
   "execution_count": 1,
   "id": "b9d10635",
   "metadata": {},
   "outputs": [],
   "source": [
    "# saving the result of the best model  as it will be needed for recommendation score and we don't have to re run the model as it is taking a lot time to run."
   ]
  },
  {
   "cell_type": "markdown",
   "id": "c99e27d7",
   "metadata": {},
   "source": [
    "XGBoost"
   ]
  },
  {
   "cell_type": "code",
   "execution_count": null,
   "id": "e6d1731c",
   "metadata": {
    "id": "e6d1731c",
    "outputId": "b6894e12-0de8-4565-dbb9-73bbf572926a"
   },
   "outputs": [
    {
     "name": "stdout",
     "output_type": "stream",
     "text": [
      "XGBoost Accuracy: 0.8035148136000875\n"
     ]
    }
   ],
   "source": [
    "xgb_model = XGBClassifier(random_state=42)\n",
    "xgb_model.fit(X_train_sm, y_train_sm)\n",
    "xgb_accuracy = xgb_model.score(X_tfidf_test, y_test)\n",
    "print('XGBoost Accuracy:', xgb_accuracy)"
   ]
  },
  {
   "cell_type": "code",
   "execution_count": null,
   "id": "8f1ff85d",
   "metadata": {
    "id": "8f1ff85d",
    "outputId": "aae3c682-6f4e-47a7-cb4c-c903e2b3e70b"
   },
   "outputs": [
    {
     "name": "stdout",
     "output_type": "stream",
     "text": [
      "Classification Report for XGBoost:\n",
      "              precision    recall  f1-score   support\n",
      "\n",
      "           0       0.67      0.71      0.69     11099\n",
      "           1       0.87      0.85      0.86     25489\n",
      "\n",
      "    accuracy                           0.80     36588\n",
      "   macro avg       0.77      0.78      0.77     36588\n",
      "weighted avg       0.81      0.80      0.81     36588\n",
      "\n"
     ]
    }
   ],
   "source": [
    "y_pred2 = xgb_model.predict(X_tfidf_test)\n",
    "classification_rep = classification_report(y_test, y_pred2)\n",
    "print(\"Classification Report for XGBoost:\")\n",
    "print(classification_rep)"
   ]
  },
  {
   "cell_type": "markdown",
   "id": "5cc0488b",
   "metadata": {},
   "source": [
    "Naive Bayes"
   ]
  },
  {
   "cell_type": "code",
   "execution_count": 10,
   "id": "e9719a06",
   "metadata": {
    "id": "e9719a06",
    "outputId": "9a7ef0ab-4974-4622-9460-5fd069d8be59"
   },
   "outputs": [
    {
     "name": "stdout",
     "output_type": "stream",
     "text": [
      "Naive Bayes Accuracy: 0.7968834976708993\n"
     ]
    }
   ],
   "source": [
    "nb_model = MultinomialNB()\n",
    "nb_model.fit(X_tfidf_train, y_train)\n",
    "nb_accuracy = nb_model.score(X_tfidf_test, y_test)\n",
    "print('Naive Bayes Accuracy:', nb_accuracy)"
   ]
  },
  {
   "cell_type": "code",
   "execution_count": 11,
   "id": "b1746ea9",
   "metadata": {
    "id": "b1746ea9",
    "outputId": "fa134af2-ff03-402f-9f80-ebbab0ccf4f5"
   },
   "outputs": [
    {
     "name": "stdout",
     "output_type": "stream",
     "text": [
      "Classification Report for Naive Bayes Classifier:\n",
      "              precision    recall  f1-score   support\n",
      "\n",
      "           0       0.80      0.44      0.57     12796\n",
      "           1       0.80      0.95      0.87     29495\n",
      "\n",
      "    accuracy                           0.80     42291\n",
      "   macro avg       0.80      0.70      0.72     42291\n",
      "weighted avg       0.80      0.80      0.78     42291\n",
      "\n"
     ]
    }
   ],
   "source": [
    "y_pred1 = nb_model.predict(X_tfidf_test)\n",
    "classification_rep = classification_report(y_test, y_pred1)\n",
    "print(\"Classification Report for Naive Bayes Classifier:\")\n",
    "print(classification_rep)"
   ]
  },
  {
   "cell_type": "markdown",
   "id": "6e73c08e",
   "metadata": {
    "id": "6e73c08e"
   },
   "source": [
    "# Bag-Of_words"
   ]
  },
  {
   "cell_type": "code",
   "execution_count": 15,
   "id": "ce383dbe",
   "metadata": {
    "id": "ce383dbe"
   },
   "outputs": [],
   "source": [
    "# Create the bag-of-words model\n",
    "bow_model = []\n",
    "\n",
    "# Create a set to store the vocabulary\n",
    "vocab = set()\n",
    "\n",
    "for text in drugs_reviews['review']:\n",
    "   \n",
    "    word_counts = {}\n",
    "\n",
    "    # Tokenize the text\n",
    "    tokens = nltk.word_tokenize(text)\n",
    "\n",
    "    \n",
    "    vocab.update(tokens)\n",
    "\n",
    "    # Count the occurrences of each word\n",
    "    for word in tokens:\n",
    "        if word in word_counts:\n",
    "            word_counts[word] += 1\n",
    "        else:\n",
    "            word_counts[word] = 1\n",
    "\n",
    "    # Add the word counts to the bag-of-words model\n",
    "    bow_model.append(word_counts)"
   ]
  },
  {
   "cell_type": "code",
   "execution_count": 16,
   "id": "e9dc6fc9",
   "metadata": {
    "id": "e9dc6fc9"
   },
   "outputs": [],
   "source": [
    "vectorizer = CountVectorizer()"
   ]
  },
  {
   "cell_type": "code",
   "execution_count": 17,
   "id": "10d0317a",
   "metadata": {
    "id": "10d0317a"
   },
   "outputs": [],
   "source": [
    "vectorizer.fit(X_train['preprocessed_review'])\n",
    "bow_model = vectorizer.transform(X_train['preprocessed_review'])\n",
    "bow_model_test = vectorizer.transform(X_test['preprocessed_review'])"
   ]
  },
  {
   "cell_type": "code",
   "execution_count": 18,
   "id": "e91788ac",
   "metadata": {
    "id": "e91788ac"
   },
   "outputs": [],
   "source": [
    "X_train_Bow = bow_model"
   ]
  },
  {
   "cell_type": "code",
   "execution_count": 22,
   "id": "c035fd2f",
   "metadata": {
    "id": "c035fd2f",
    "outputId": "db61872b-04b3-48cb-eafb-884d91fdf184"
   },
   "outputs": [
    {
     "name": "stdout",
     "output_type": "stream",
     "text": [
      "After Counter({1: 102485, 0: 102485})\n"
     ]
    }
   ],
   "source": [
    "X_train_sm, y_train_sm = smt.fit_resample(X_train_Bow, y_train)\n",
    "\n",
    "counter = Counter(y_train_sm)\n",
    "print('After',counter)"
   ]
  },
  {
   "cell_type": "code",
   "execution_count": 24,
   "id": "4767a30e",
   "metadata": {
    "id": "4767a30e"
   },
   "outputs": [],
   "source": [
    "X_test_bow = bow_model_test"
   ]
  },
  {
   "cell_type": "markdown",
   "id": "ec22efa1",
   "metadata": {},
   "source": [
    "Random Forest"
   ]
  },
  {
   "cell_type": "code",
   "execution_count": null,
   "id": "ac85d20c",
   "metadata": {
    "id": "ac85d20c",
    "outputId": "73eefab9-3660-4d2d-a748-9be415c7bf47"
   },
   "outputs": [
    {
     "name": "stdout",
     "output_type": "stream",
     "text": [
      "Random Forests Accuracy: 0.8935170001093254\n"
     ]
    }
   ],
   "source": [
    "rf_model = RandomForestClassifier(n_estimators=100, random_state=42)\n",
    "rf_model.fit(X_train_sm, y_train_sm)\n",
    "rf_accuracy = rf_model.score(X_test_bow, y_test)\n",
    "print('Random Forests Accuracy:', rf_accuracy)"
   ]
  },
  {
   "cell_type": "code",
   "execution_count": null,
   "id": "7b2d7666",
   "metadata": {
    "id": "7b2d7666",
    "outputId": "d5e5ad07-6677-484a-95e6-5be42b8c2d9b",
    "scrolled": true
   },
   "outputs": [
    {
     "name": "stdout",
     "output_type": "stream",
     "text": [
      "Classification Report for Random Forest Classifier:\n",
      "              precision    recall  f1-score   support\n",
      "\n",
      "           0       0.87      0.77      0.81     11099\n",
      "           1       0.90      0.95      0.93     25489\n",
      "\n",
      "    accuracy                           0.89     36588\n",
      "   macro avg       0.88      0.86      0.87     36588\n",
      "weighted avg       0.89      0.89      0.89     36588\n",
      "\n"
     ]
    }
   ],
   "source": [
    "y_pred_3 = rf_model.predict(X_test_bow)\n",
    "classification_rep = classification_report(y_test, y_pred_3)\n",
    "print(\"Classification Report for Random Forest Classifier:\")\n",
    "print(classification_rep)"
   ]
  },
  {
   "cell_type": "code",
   "execution_count": null,
   "id": "0bffa8b1",
   "metadata": {},
   "outputs": [],
   "source": [
    "# Random Forest is the best model with Bag - of - Words with accuracy of 0.89"
   ]
  },
  {
   "cell_type": "code",
   "execution_count": null,
   "id": "896d01a4",
   "metadata": {
    "id": "896d01a4"
   },
   "outputs": [],
   "source": [
    "df_model2= pd.read_csv(\"C:/Users/rutik/Downloads/df_model2.csv\")"
   ]
  },
  {
   "cell_type": "code",
   "execution_count": null,
   "id": "235645db",
   "metadata": {
    "id": "235645db"
   },
   "outputs": [],
   "source": [
    "df_model2['model3'] = y_pred_3"
   ]
  },
  {
   "cell_type": "code",
   "execution_count": null,
   "id": "9ace6fd8",
   "metadata": {
    "id": "9ace6fd8",
    "scrolled": true
   },
   "outputs": [],
   "source": [
    "df_model2.to_csv('df_model3.csv')"
   ]
  },
  {
   "cell_type": "code",
   "execution_count": null,
   "id": "81282a82",
   "metadata": {
    "id": "81282a82"
   },
   "outputs": [],
   "source": [
    "df_model2.to_csv('C:/Users/rutik/Downloads/df_model3.csv')"
   ]
  },
  {
   "cell_type": "code",
   "execution_count": null,
   "id": "8650c094",
   "metadata": {
    "id": "8650c094"
   },
   "outputs": [],
   "source": [
    "df_model3= pd.read_csv(\"C:/Users/rutik/Downloads/df_model3.csv\")"
   ]
  },
  {
   "cell_type": "code",
   "execution_count": null,
   "id": "7dbc6268",
   "metadata": {},
   "outputs": [],
   "source": [
    "# saving the result of the best model  as it will be needed for recommendation score and we don't have to re run the model as it is taking a lot time to run."
   ]
  },
  {
   "cell_type": "markdown",
   "id": "480f775f",
   "metadata": {},
   "source": [
    "XGBoost"
   ]
  },
  {
   "cell_type": "code",
   "execution_count": 29,
   "id": "b63966a7",
   "metadata": {
    "id": "b63966a7",
    "outputId": "a2469636-3d81-44ba-81d7-7da54087e3b0"
   },
   "outputs": [
    {
     "name": "stdout",
     "output_type": "stream",
     "text": [
      "XGBoost Accuracy: 0.8112769213949929\n"
     ]
    }
   ],
   "source": [
    "xgb_model = XGBClassifier(random_state=42)\n",
    "xgb_model.fit(X_train_sm, y_train_sm)\n",
    "xgb_accuracy = xgb_model.score(X_test_bow, y_test)\n",
    "print('XGBoost Accuracy:', xgb_accuracy)"
   ]
  },
  {
   "cell_type": "code",
   "execution_count": 30,
   "id": "a106c711",
   "metadata": {
    "id": "a106c711",
    "outputId": "5dfdb6e3-e0b5-429d-e948-e74b89734aec"
   },
   "outputs": [
    {
     "name": "stdout",
     "output_type": "stream",
     "text": [
      "Classification Report for XGBoost Classifier:\n",
      "              precision    recall  f1-score   support\n",
      "\n",
      "           0       0.75      0.57      0.65     11150\n",
      "           1       0.83      0.92      0.87     25438\n",
      "\n",
      "    accuracy                           0.81     36588\n",
      "   macro avg       0.79      0.74      0.76     36588\n",
      "weighted avg       0.81      0.81      0.80     36588\n",
      "\n"
     ]
    }
   ],
   "source": [
    "y_pred = xgb_model.predict(X_test_bow)\n",
    "classification_rep = classification_report(y_test, y_pred)\n",
    "print(\"Classification Report for XGBoost Classifier:\")\n",
    "print(classification_rep)"
   ]
  },
  {
   "cell_type": "markdown",
   "id": "dcb266ee",
   "metadata": {},
   "source": [
    "Naive Bayes"
   ]
  },
  {
   "cell_type": "code",
   "execution_count": 34,
   "id": "f11ffcd5",
   "metadata": {
    "id": "f11ffcd5",
    "outputId": "7969850f-ba55-4518-9576-d927a788b578"
   },
   "outputs": [
    {
     "name": "stdout",
     "output_type": "stream",
     "text": [
      "Naive Bayes Accuracy: 0.7689679676396632\n"
     ]
    }
   ],
   "source": [
    "nb_model = MultinomialNB()\n",
    "nb_model.fit(X_train_sm, y_train_sm)\n",
    "\n",
    "nb_accuracy = nb_model.score(X_test_bow, y_test)\n",
    "print('Naive Bayes Accuracy:', nb_accuracy)"
   ]
  },
  {
   "cell_type": "code",
   "execution_count": 35,
   "id": "0b010201",
   "metadata": {
    "id": "0b010201",
    "outputId": "f97f5d82-19c5-4d8f-9335-e297f1e2fa89"
   },
   "outputs": [
    {
     "name": "stdout",
     "output_type": "stream",
     "text": [
      "Classification Report for Random Forest Classifier:\n",
      "              precision    recall  f1-score   support\n",
      "\n",
      "           0       0.60      0.72      0.65     11150\n",
      "           1       0.87      0.79      0.83     25438\n",
      "\n",
      "    accuracy                           0.77     36588\n",
      "   macro avg       0.73      0.76      0.74     36588\n",
      "weighted avg       0.78      0.77      0.77     36588\n",
      "\n"
     ]
    }
   ],
   "source": [
    "y_pred_2 = nb_model.predict(X_test_bow)\n",
    "classification_rep = classification_report(y_test, y_pred_2)\n",
    "print(\"Classification Report for Random Forest Classifier:\")\n",
    "print(classification_rep)"
   ]
  },
  {
   "cell_type": "markdown",
   "id": "6f62431a",
   "metadata": {
    "id": "6f62431a"
   },
   "source": [
    "# Word2Vec"
   ]
  },
  {
   "cell_type": "code",
   "execution_count": null,
   "id": "fe394591",
   "metadata": {
    "id": "fe394591"
   },
   "outputs": [],
   "source": [
    "# Skip-gram model (sg = 1)\n",
    "size = 1000\n",
    "window = 3\n",
    "min_count = 1\n",
    "workers = 3\n",
    "sg = 1"
   ]
  },
  {
   "cell_type": "code",
   "execution_count": null,
   "id": "01e5139c",
   "metadata": {
    "id": "01e5139c"
   },
   "outputs": [],
   "source": [
    "OUTPUT_FOLDER = \"C:/Users/rutik/Downloads/OUTPUT_FOLDER\""
   ]
  },
  {
   "cell_type": "code",
   "execution_count": null,
   "id": "357b81c9",
   "metadata": {
    "id": "357b81c9",
    "outputId": "e17f06f3-ba18-46f5-eb5e-1ae6ff2c4646"
   },
   "outputs": [
    {
     "name": "stdout",
     "output_type": "stream",
     "text": [
      "Time taken to train word2vec model: 0.02284550666809082\n"
     ]
    }
   ],
   "source": [
    "word2vec_model_file = OUTPUT_FOLDER + 'word2vec_' + str(size) + '.model'\n",
    "start_time = time.time()\n",
    "\n",
    "\n",
    "stemmed_tokens = X  \n",
    "\n",
    "\n",
    "w2v_model = Word2Vec(stemmed_tokens, min_count=min_count, vector_size=size, workers=workers, window=window, sg=sg)\n",
    "print(\"Time taken to train word2vec model: \" + str(time.time() - start_time))\n",
    "\n",
    "\n",
    "w2v_model.save(word2vec_model_file)"
   ]
  },
  {
   "cell_type": "code",
   "execution_count": null,
   "id": "938b4b4a",
   "metadata": {
    "id": "938b4b4a"
   },
   "outputs": [],
   "source": [
    "w2v_model.save(word2vec_model_file)"
   ]
  },
  {
   "cell_type": "code",
   "execution_count": null,
   "id": "7a5bb7e4",
   "metadata": {
    "id": "7a5bb7e4"
   },
   "outputs": [],
   "source": [
    "from gensim.models import Word2Vec\n",
    "w2v_model = Word2Vec.load(word2vec_model_file)\n",
    "\n",
    "# Function to average word vectors\n",
    "def average_word_vectors(tokens, model, vector_size):\n",
    "    word_vectors = []\n",
    "    for token in tokens:\n",
    "        if token in model.wv:\n",
    "            word_vectors.append(model.wv[token])\n",
    "    if word_vectors:\n",
    "        return np.mean(word_vectors, axis=0)\n",
    "    else:\n",
    "        return np.zeros(vector_size)  "
   ]
  },
  {
   "cell_type": "code",
   "execution_count": null,
   "id": "a1914697",
   "metadata": {
    "id": "a1914697"
   },
   "outputs": [],
   "source": [
    "X_vectors_W2v_train = np.array([average_word_vectors(tokens, w2v_model, size) for tokens in X_train['preprocessed_review']])"
   ]
  },
  {
   "cell_type": "code",
   "execution_count": null,
   "id": "38e20f8a",
   "metadata": {
    "id": "38e20f8a"
   },
   "outputs": [],
   "source": [
    "X_vectors_W2v_test = np.array([average_word_vectors(tokens, w2v_model, size) for tokens in X_test['preprocessed_review']])"
   ]
  },
  {
   "cell_type": "code",
   "execution_count": null,
   "id": "704a7501",
   "metadata": {
    "id": "704a7501",
    "outputId": "bea22e39-2cc8-40d6-bff7-8f4d0a8db23a"
   },
   "outputs": [
    {
     "name": "stdout",
     "output_type": "stream",
     "text": [
      "After Counter({1: 102434, 0: 102434})\n"
     ]
    }
   ],
   "source": [
    "X_train_sm, y_train_sm = smt.fit_resample(X_vectors_W2v_train, y_train)\n",
    "\n",
    "counter = Counter(y_train_sm)\n",
    "print('After',counter)"
   ]
  },
  {
   "cell_type": "markdown",
   "id": "da9ccc38",
   "metadata": {},
   "source": [
    "Random Forest"
   ]
  },
  {
   "cell_type": "code",
   "execution_count": null,
   "id": "648e3d93",
   "metadata": {
    "id": "648e3d93",
    "outputId": "c0102170-80a2-41ba-d05a-d5a349733fc3"
   },
   "outputs": [
    {
     "name": "stdout",
     "output_type": "stream",
     "text": [
      "Random Forests Accuracy: 0.8535312124193725\n"
     ]
    }
   ],
   "source": [
    "rf_model = RandomForestClassifier(n_estimators=100, random_state=42)\n",
    "rf_model.fit(X_train_sm, y_train_sm)\n",
    "rf_accuracy = rf_model.score(X_vectors_W2v_test, y_test)\n",
    "print('Random Forests Accuracy:', rf_accuracy)"
   ]
  },
  {
   "cell_type": "code",
   "execution_count": null,
   "id": "8a119017",
   "metadata": {
    "id": "8a119017",
    "outputId": "116be847-4905-4efc-ec64-77920fa3e17b",
    "scrolled": true
   },
   "outputs": [
    {
     "name": "stdout",
     "output_type": "stream",
     "text": [
      "Classification Report for Random Forest Classifier:\n",
      "              precision    recall  f1-score   support\n",
      "\n",
      "           0       0.78      0.72      0.75     11099\n",
      "           1       0.88      0.91      0.90     25489\n",
      "\n",
      "    accuracy                           0.85     36588\n",
      "   macro avg       0.83      0.82      0.82     36588\n",
      "weighted avg       0.85      0.85      0.85     36588\n",
      "\n"
     ]
    }
   ],
   "source": [
    "y_pred5 = rf_model.predict(X_vectors_W2v_test)\n",
    "classification_rep = classification_report(y_test, y_pred5)\n",
    "print(\"Classification Report for Random Forest Classifier:\")\n",
    "print(classification_rep)"
   ]
  },
  {
   "cell_type": "code",
   "execution_count": null,
   "id": "26f16bf0",
   "metadata": {},
   "outputs": [],
   "source": [
    "# So Random Forest is the best model with Word2Vec with accuracy of 0.85"
   ]
  },
  {
   "cell_type": "code",
   "execution_count": null,
   "id": "a1efa149",
   "metadata": {},
   "outputs": [],
   "source": [
    "# saving the result of the best model  as it will be needed for recommendation score and we don't have to re run the model as it is taking a lot time to run"
   ]
  },
  {
   "cell_type": "code",
   "execution_count": null,
   "id": "a500af24",
   "metadata": {
    "id": "a500af24"
   },
   "outputs": [],
   "source": [
    "df_model3= pd.read_csv(\"C:/Users/rutik/Downloads/df_model3.csv\")"
   ]
  },
  {
   "cell_type": "code",
   "execution_count": null,
   "id": "f8a9cef5",
   "metadata": {
    "id": "f8a9cef5"
   },
   "outputs": [],
   "source": [
    "df_model3['model4'] = y_pred5"
   ]
  },
  {
   "cell_type": "code",
   "execution_count": null,
   "id": "fe2da8b0",
   "metadata": {
    "id": "fe2da8b0"
   },
   "outputs": [],
   "source": [
    "df_model3.to_csv('df_model4.csv')"
   ]
  },
  {
   "cell_type": "code",
   "execution_count": null,
   "id": "37824600",
   "metadata": {
    "id": "37824600"
   },
   "outputs": [],
   "source": [
    "df_model3.to_csv('C:/Users/rutik/Downloads/df_model4.csv')"
   ]
  },
  {
   "cell_type": "code",
   "execution_count": null,
   "id": "b0731de0",
   "metadata": {
    "id": "b0731de0"
   },
   "outputs": [],
   "source": [
    "df_model4= pd.read_csv(\"C:/Users/rutik/Downloads/df_model4.csv\")"
   ]
  },
  {
   "cell_type": "markdown",
   "id": "b90d3d40",
   "metadata": {},
   "source": [
    "XGBoost"
   ]
  },
  {
   "cell_type": "code",
   "execution_count": null,
   "id": "1d23fe4f",
   "metadata": {
    "id": "1d23fe4f",
    "outputId": "42cbf492-b96a-43d2-9b2f-92c97fe191df"
   },
   "outputs": [
    {
     "name": "stdout",
     "output_type": "stream",
     "text": [
      "XGBoost Accuracy: 0.6660653766262162\n"
     ]
    }
   ],
   "source": [
    "xgb_model = XGBClassifier(random_state=42)\n",
    "xgb_model.fit(X_train_sm, y_train_sm)\n",
    "xgb_accuracy = xgb_model.score(X_vectors_W2v_test,y_test)\n",
    "print('XGBoost Accuracy:', xgb_accuracy)"
   ]
  },
  {
   "cell_type": "code",
   "execution_count": null,
   "id": "b210ae73",
   "metadata": {
    "id": "b210ae73",
    "outputId": "06c964e6-b1e1-40d9-9b56-b88975eb215f",
    "scrolled": true
   },
   "outputs": [
    {
     "name": "stdout",
     "output_type": "stream",
     "text": [
      "Classification Report for XGBoost Classifier:\n",
      "              precision    recall  f1-score   support\n",
      "\n",
      "           0       0.46      0.61      0.53     11099\n",
      "           1       0.80      0.69      0.74     25489\n",
      "\n",
      "    accuracy                           0.67     36588\n",
      "   macro avg       0.63      0.65      0.63     36588\n",
      "weighted avg       0.70      0.67      0.68     36588\n",
      "\n"
     ]
    }
   ],
   "source": [
    "y_pred6 = xgb_model.predict(X_vectors_W2v_test)\n",
    "classification_rep = classification_report(y_test, y_pred6)\n",
    "print(\"Classification Report for XGBoost Classifier:\")\n",
    "print(classification_rep)"
   ]
  },
  {
   "cell_type": "markdown",
   "id": "b1123349",
   "metadata": {},
   "source": [
    "It can bee seen that for every feature extraction techniques Random Forest model was best, so we have save the results of Random forest model for each techniques as df_model4 and it will be used while developing drug recommendation score."
   ]
  }
 ],
 "metadata": {
  "colab": {
   "provenance": []
  },
  "kernelspec": {
   "display_name": "Python 3 (ipykernel)",
   "language": "python",
   "name": "python3"
  },
  "language_info": {
   "codemirror_mode": {
    "name": "ipython",
    "version": 3
   },
   "file_extension": ".py",
   "mimetype": "text/x-python",
   "name": "python",
   "nbconvert_exporter": "python",
   "pygments_lexer": "ipython3",
   "version": "3.9.12"
  }
 },
 "nbformat": 4,
 "nbformat_minor": 5
}
